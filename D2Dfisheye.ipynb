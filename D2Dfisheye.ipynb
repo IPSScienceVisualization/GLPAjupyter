{
 "cells": [
  {
   "cell_type": "markdown",
   "metadata": {},
   "source": [
    "# Parsing a data2dome feed to find and acquire fulldome images\n",
    "\n",
    "This notebook shows how to connect to a [data2dome](https://docs.google.com/document/d/1USG1clnxSyGf9lsDe-alb6nZzxn_xFzxbjCnSVPzlWU/edit#) JSON feed.\n",
    "\n",
    "In this example we query the ESO images feed and search for recent images in fulldome format. We then construct an html table with thumbnail images so that we can select which ones we want. Finally we download the desired images, resizing as necessary.\n",
    "\n",
    "Mark SubbaRao, April 25th, 2017"
   ]
  },
  {
   "cell_type": "code",
   "execution_count": null,
   "metadata": {},
   "outputs": [],
   "source": [
    "import pandas as pd\n",
    "from IPython.display import Image, HTML\n",
    "from datetime import date, timedelta\n",
    "import requests\n",
    "from PIL import Image as Im\n",
    "import os\n",
    "\n",
    "# D2D Feed\n",
    "ESOimages = 'http://www.eso.org/public/images/d2d/'\n",
    "howRecent = 180 # in days\n",
    "pd.set_option('max_colwidth',5000) # so we will return the full description without truncation\n",
    "numReturn=10 # maximum number of results to return\n",
    "desiredResolution = 4096"
   ]
  },
  {
   "cell_type": "markdown",
   "metadata": {},
   "source": [
    "## Parse the Feed\n",
    "\n",
    "This code block downloads the pagenated json feed and parses it selecting only the images in fulldome format until numReturn objects are found."
   ]
  },
  {
   "cell_type": "code",
   "execution_count": null,
   "metadata": {},
   "outputs": [],
   "source": [
    "page = ESOimages+'?after='+(date.today()-timedelta(days=howRecent)).strftime('%Y%m%d')+'0000' #the 0000 is the time component of the date\n",
    "nImg = 0\n",
    "nPage=0\n",
    "feedImages=[]\n",
    "while (page!='' and nImg < numReturn):\n",
    "    print(page)\n",
    "    df=pd.read_json(page)\n",
    "    # The Next parameter may or may not exist\n",
    "    try:\n",
    "        page=df.Next[0]\n",
    "    except:\n",
    "        page=''\n",
    "    nPage=nPage+1\n",
    "    for feedImage in df.Collections:\n",
    "        if (feedImage['Assets'][0]['Resources'][0]['ProjectionType']=='Fulldome'and nImg < numReturn):\n",
    "            feedImages.append(feedImage)\n",
    "            nImg=nImg+1\n",
    "    print(str(nPage) + ' pages parsed ' + str(nImg) + ' fulldome images found')"
   ]
  },
  {
   "cell_type": "markdown",
   "metadata": {},
   "source": [
    "## Create table with thumbnail images for image selection"
   ]
  },
  {
   "cell_type": "code",
   "execution_count": null,
   "metadata": {},
   "outputs": [],
   "source": [
    "titleList=[]\n",
    "descriptionList=[]\n",
    "thumbnailList=[]\n",
    "pubdateList=[]\n",
    "for pic in feedImages:\n",
    "    titleList.append(pic['Title'])\n",
    "    descriptionList.append(pic['Description'].replace(\"\\r\\n\",''))\n",
    "    pubdateList.append(pic['PublicationDate'])\n",
    "    for resource in pic['Assets'][0]['Resources']:\n",
    "        if (resource['ResourceType']=='Thumbnail'):\n",
    "            thumbnailList.append('<img src=\"'+resource['URL']+'\"/>')            \n",
    "\n",
    "df3 = pd.DataFrame({'title':titleList,'description':descriptionList,'thumbnail':thumbnailList,'pubdate':pubdateList},columns=['title','thumbnail','description','pubdate'])\n",
    "\n",
    "HTML(df3.to_html(escape=False))"
   ]
  },
  {
   "cell_type": "markdown",
   "metadata": {},
   "source": [
    "## Selecting and downloading the images\n",
    "\n",
    "The next code block contains a function to download the image, resizing it if it is larger than the desired size (note some of the ESO fisheye images are very large (~16K). "
   ]
  },
  {
   "cell_type": "code",
   "execution_count": null,
   "metadata": {},
   "outputs": [],
   "source": [
    "def getD2Dimage(num,imageName):\n",
    "    imURL=''\n",
    "    imSize=0\n",
    "    imDict = feedImages[num]\n",
    "    \n",
    "    # Download image, resize if necessary and save in module directory\n",
    "    for resource in imDict['Assets'][0]['Resources']:\n",
    "        if ((resource['Dimensions'][0]>=imSize and imSize < desiredResolution) or (resource['Dimensions'][0]<=imSize and imSize > desiredResolution and resource['Dimensions'][0] > desiredResolution)):\n",
    "            imSize = resource['Dimensions'][0]\n",
    "            imURL = resource['URL']\n",
    "    print('downloading '+imURL)    \n",
    "    im = Im.open(requests.get(imURL, stream=True).raw)\n",
    "    if (imSize > desiredResolution):\n",
    "        im = im.resize((desiredResolution,desiredResolution))\n",
    "        print('resizing image from '+str(imSize)+' to '+str(desiredResolution))\n",
    "    im.save(imageName)"
   ]
  },
  {
   "cell_type": "markdown",
   "metadata": {},
   "source": [
    "Here is an example of how to call the getD2Dimage function"
   ]
  },
  {
   "cell_type": "code",
   "execution_count": null,
   "metadata": {},
   "outputs": [],
   "source": [
    "getD2Dimage(0,'LaSilla.jpg')"
   ]
  },
  {
   "cell_type": "code",
   "execution_count": null,
   "metadata": {},
   "outputs": [],
   "source": []
  }
 ],
 "metadata": {
  "anaconda-cloud": {},
  "kernelspec": {
   "display_name": "Python [conda root]",
   "language": "python",
   "name": "conda-root-py"
  },
  "language_info": {
   "codemirror_mode": {
    "name": "ipython",
    "version": 3
   },
   "file_extension": ".py",
   "mimetype": "text/x-python",
   "name": "python",
   "nbconvert_exporter": "python",
   "pygments_lexer": "ipython3",
   "version": "3.5.2"
  }
 },
 "nbformat": 4,
 "nbformat_minor": 1
}
