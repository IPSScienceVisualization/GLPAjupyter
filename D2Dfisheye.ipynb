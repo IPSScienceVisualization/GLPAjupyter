{
 "cells": [
  {
   "cell_type": "markdown",
   "metadata": {},
   "source": [
    "# Parsing a data2dome feed to find and acquire fulldome images\n",
    "\n",
    "This notebook shows how to connect to a [data2dome](https://docs.google.com/document/d/1USG1clnxSyGf9lsDe-alb6nZzxn_xFzxbjCnSVPzlWU/edit#) JSON feed.\n",
    "\n",
    "In this example we query the ESO images feed and search for recent images in fulldome format. We then construct an html table with thumbnail images so that we can select which ones we want. Finally we download the desired images, resizing as necessary.\n",
    "\n",
    "Mark SubbaRao, April 25th, 2017"
   ]
  },
  {
   "cell_type": "code",
   "execution_count": 6,
   "metadata": {},
   "outputs": [],
   "source": [
    "import pandas as pd\n",
    "from IPython.display import Image, HTML\n",
    "from datetime import date, timedelta\n",
    "import requests\n",
    "from PIL import Image as Im\n",
    "import os\n",
    "\n",
    "# D2D Feed\n",
    "ESOimages = 'http://www.eso.org/public/images/d2d/'\n",
    "howRecent = 180 # in days\n",
    "pd.set_option('max_colwidth',5000) # so we will return the full description without truncation\n",
    "numReturn=10 # maximum number of results to return\n",
    "desiredResolution = 4096"
   ]
  },
  {
   "cell_type": "markdown",
   "metadata": {},
   "source": [
    "## Parse the Feed\n",
    "\n",
    "This code block downloads the pagenated json feed and parses it selecting only the images in fulldome format until numReturn objects are found."
   ]
  },
  {
   "cell_type": "code",
   "execution_count": 7,
   "metadata": {},
   "outputs": [
    {
     "name": "stdout",
     "output_type": "stream",
     "text": [
      "http://www.eso.org/public/images/d2d/?after=201804130000\n",
      "1 pages parsed 1 fulldome images found\n",
      "https://www.eso.org/public/images/d2d/?after=201804130000&page=2\n",
      "2 pages parsed 2 fulldome images found\n",
      "https://www.eso.org/public/images/d2d/?after=201804130000&page=3\n",
      "3 pages parsed 2 fulldome images found\n",
      "https://www.eso.org/public/images/d2d/?after=201804130000&page=4\n",
      "4 pages parsed 2 fulldome images found\n",
      "https://www.eso.org/public/images/d2d/?after=201804130000&page=5\n",
      "5 pages parsed 2 fulldome images found\n",
      "https://www.eso.org/public/images/d2d/?after=201804130000&page=6\n",
      "6 pages parsed 2 fulldome images found\n",
      "https://www.eso.org/public/images/d2d/?after=201804130000&page=7\n",
      "7 pages parsed 2 fulldome images found\n"
     ]
    }
   ],
   "source": [
    "page = ESOimages+'?after='+(date.today()-timedelta(days=howRecent)).strftime('%Y%m%d')+'0000' #the 0000 is the time component of the date\n",
    "nImg = 0\n",
    "nPage=0\n",
    "feedImages=[]\n",
    "while (page!='' and nImg < numReturn):\n",
    "    print(page)\n",
    "    df=pd.read_json(page)\n",
    "    # The Next parameter may or may not exist\n",
    "    try:\n",
    "        page=df.Next[0]\n",
    "    except:\n",
    "        page=''\n",
    "    nPage=nPage+1\n",
    "    for feedImage in df.Collections:\n",
    "        if (feedImage['Assets'][0]['Resources'][0]['ProjectionType']=='Fulldome'and nImg < numReturn):\n",
    "            feedImages.append(feedImage)\n",
    "            nImg=nImg+1\n",
    "    print(str(nPage) + ' pages parsed ' + str(nImg) + ' fulldome images found')"
   ]
  },
  {
   "cell_type": "markdown",
   "metadata": {},
   "source": [
    "## Create table with thumbnail images for image selection"
   ]
  },
  {
   "cell_type": "code",
   "execution_count": 3,
   "metadata": {},
   "outputs": [
    {
     "data": {
      "text/html": [
       "<table border=\"1\" class=\"dataframe\">\n",
       "  <thead>\n",
       "    <tr style=\"text-align: right;\">\n",
       "      <th></th>\n",
       "      <th>title</th>\n",
       "      <th>thumbnail</th>\n",
       "      <th>description</th>\n",
       "      <th>pubdate</th>\n",
       "    </tr>\n",
       "  </thead>\n",
       "  <tbody>\n",
       "    <tr>\n",
       "      <th>0</th>\n",
       "      <td>Fulldome image of La Silla</td>\n",
       "      <td><img src=\"https://www.eso.org/public/archives/images/potwmedium/2017-04-13-la-silla-fd-telescopes-cc.jpg\"/></td>\n",
       "      <td><p>This fulldome image, used for planetarium shows, features some of the  many telescopes located on La Silla. The Milky Way galaxy streaks  across the upper part of the image.</p><h3>Links</h3><ul><li><a href=\"https://www.eso.org/public/images/2017-04-13-la-silla-fd-telescopes-eq-cc/\">Equirectagular projected version</a></li><li><a href=\"https://www.eso.org/public/images/2017-04-13-la-silla-fd-telescopes-eq-cc-extended/\">Extended to 360x180 degrees (with black) version of the image</a></li></ul></td>\n",
       "      <td>2018-09-24T12:26:04.241210Z</td>\n",
       "    </tr>\n",
       "    <tr>\n",
       "      <th>1</th>\n",
       "      <td>Fulldome of ALMA</td>\n",
       "      <td><img src=\"https://www.eso.org/public/archives/images/potwmedium/2016_04_09_ALMA_Central_Array_Reproj-fulldome-CC.jpg\"/></td>\n",
       "      <td><p>A fulldome image of the Milky Way from <a href=\"https://www.eso.org/public/teles-instr/alma/\">ALMA</a> in Chile.</p></td>\n",
       "      <td>2018-09-18T07:14:49.252047Z</td>\n",
       "    </tr>\n",
       "  </tbody>\n",
       "</table>"
      ],
      "text/plain": [
       "<IPython.core.display.HTML object>"
      ]
     },
     "execution_count": 3,
     "metadata": {},
     "output_type": "execute_result"
    }
   ],
   "source": [
    "titleList=[]\n",
    "descriptionList=[]\n",
    "thumbnailList=[]\n",
    "pubdateList=[]\n",
    "for pic in feedImages:\n",
    "    titleList.append(pic['Title'])\n",
    "    descriptionList.append(pic['Description'].replace(\"\\r\\n\",''))\n",
    "    pubdateList.append(pic['PublicationDate'])\n",
    "    for resource in pic['Assets'][0]['Resources']:\n",
    "        if (resource['ResourceType']=='Thumbnail'):\n",
    "            thumbnailList.append('<img src=\"'+resource['URL']+'\"/>')            \n",
    "\n",
    "df3 = pd.DataFrame({'title':titleList,'description':descriptionList,'thumbnail':thumbnailList,'pubdate':pubdateList},columns=['title','thumbnail','description','pubdate'])\n",
    "\n",
    "HTML(df3.to_html(escape=False))"
   ]
  },
  {
   "cell_type": "markdown",
   "metadata": {},
   "source": [
    "## Selecting and downloading the images\n",
    "\n",
    "The next code block contains a function to download the image, resizing it if it is larger than the desired size (note some of the ESO fisheye images are very large (~16K). "
   ]
  },
  {
   "cell_type": "code",
   "execution_count": 4,
   "metadata": {},
   "outputs": [],
   "source": [
    "def getD2Dimage(num,imageName):\n",
    "    imURL=''\n",
    "    imSize=0\n",
    "    imDict = feedImages[num]\n",
    "    \n",
    "    # Download image, resize if necessary and save in module directory\n",
    "    for resource in imDict['Assets'][0]['Resources']:\n",
    "        if ((resource['Dimensions'][0]>=imSize and imSize < desiredResolution) or (resource['Dimensions'][0]<=imSize and imSize > desiredResolution and resource['Dimensions'][0] > desiredResolution)):\n",
    "            imSize = resource['Dimensions'][0]\n",
    "            imURL = resource['URL']\n",
    "    print('downloading '+imURL)    \n",
    "    im = Im.open(requests.get(imURL, stream=True).raw)\n",
    "    if (imSize > desiredResolution):\n",
    "        im = im.resize((desiredResolution,desiredResolution))\n",
    "        print('resizing image from '+str(imSize)+' to '+str(desiredResolution))\n",
    "    im.save(imageName)"
   ]
  },
  {
   "cell_type": "markdown",
   "metadata": {},
   "source": [
    "Here is an example of how to call the getD2Dimage function"
   ]
  },
  {
   "cell_type": "code",
   "execution_count": 5,
   "metadata": {},
   "outputs": [
    {
     "name": "stdout",
     "output_type": "stream",
     "text": [
      "downloading https://cdn.eso.org/images/large/2017-04-13-la-silla-fd-telescopes-cc.jpg\n"
     ]
    },
    {
     "name": "stderr",
     "output_type": "stream",
     "text": [
      "C:\\Users\\msubbarao\\AppData\\Local\\Continuum\\Anaconda3\\lib\\site-packages\\PIL\\Image.py:2261: DecompressionBombWarning: Image size (290838916 pixels) exceeds limit of 89478485 pixels, could be decompression bomb DOS attack.\n",
      "  DecompressionBombWarning)\n"
     ]
    },
    {
     "name": "stdout",
     "output_type": "stream",
     "text": [
      "resizing image from 17054 to 4096\n"
     ]
    }
   ],
   "source": [
    "getD2Dimage(0,'LaSilla.jpg')"
   ]
  },
  {
   "cell_type": "code",
   "execution_count": null,
   "metadata": {},
   "outputs": [],
   "source": []
  }
 ],
 "metadata": {
  "anaconda-cloud": {},
  "kernelspec": {
   "display_name": "Python [conda root]",
   "language": "python",
   "name": "conda-root-py"
  },
  "language_info": {
   "codemirror_mode": {
    "name": "ipython",
    "version": 3
   },
   "file_extension": ".py",
   "mimetype": "text/x-python",
   "name": "python",
   "nbconvert_exporter": "python",
   "pygments_lexer": "ipython3",
   "version": "3.5.2"
  }
 },
 "nbformat": 4,
 "nbformat_minor": 1
}
