{
 "cells": [
  {
   "cell_type": "markdown",
   "metadata": {},
   "source": [
    "# Fun with Jupyter notebooks\n",
    "\n",
    "This notebook will demo why Jupyter notebooks are such a great environment for research, teaching, and collaboration.\n",
    "\n",
    "The big idea is that you can mix documentation with code and visualization - let's try that out"
   ]
  },
  {
   "cell_type": "code",
   "execution_count": null,
   "metadata": {},
   "outputs": [],
   "source": [
    "# Here we are programming with Python, but Jupyter Notebooks support other languages\n",
    "# J(Julia)Py(python)teR(R)\n",
    "\n",
    "print('Good Afternoon LIPS')"
   ]
  },
  {
   "cell_type": "code",
   "execution_count": null,
   "metadata": {},
   "outputs": [],
   "source": [
    "fruits = ['orange','apple','mango']\n",
    "for fruit in fruits:\n",
    "    print(fruit)"
   ]
  },
  {
   "cell_type": "markdown",
   "metadata": {},
   "source": [
    "The documentation is written in markdown. Markdown is a lightweight markup language (read WAY easier than writing html). Aaron Schwartz https://en.wikipedia.org/wiki/Aaron_Swartz was a key developer of the language. Some examples of thigs you can do:\n",
    "\n",
    "#### I can make lists\n",
    "* oranges\n",
    "* mangos\n",
    "* apples\n",
    "\n",
    "##### I can make ordered lists\n",
    "1. First Thing\n",
    "2. Second Thing\n",
    "3. Third Thing\n",
    "1. Actually the numbers don't have to be in order\n",
    "100. They will render OK anyway"
   ]
  },
  {
   "cell_type": "markdown",
   "metadata": {},
   "source": [
    "### Images\n",
    "\n",
    "I can also import images ![LIPS logo](https://lh6.googleusercontent.com/B3lbJgmYeIBGvbLV-gPfAf0jcFU8wxMa0hJ6lcWI4fneRDXxCYLJlsgr277bfWWR-LkAQaHoqsxkBD-4j3p5KZc9g7WemyEtnTJPr9bPzZ1aa_kAK3Q=w371)"
   ]
  },
  {
   "cell_type": "markdown",
   "metadata": {},
   "source": [
    "Importing some additional python libraries will allow you to do more, for example here is a one that lets you display YouTube videos in the notebook"
   ]
  },
  {
   "cell_type": "code",
   "execution_count": null,
   "metadata": {},
   "outputs": [],
   "source": [
    "from IPython.display import YouTubeVideo\n",
    "YouTubeVideo('J7UwSVsiwzI')"
   ]
  }
 ],
 "metadata": {
  "anaconda-cloud": {},
  "kernelspec": {
   "display_name": "Python 3",
   "language": "python",
   "name": "python3"
  },
  "language_info": {
   "codemirror_mode": {
    "name": "ipython",
    "version": 3
   },
   "file_extension": ".py",
   "mimetype": "text/x-python",
   "name": "python",
   "nbconvert_exporter": "python",
   "pygments_lexer": "ipython3",
   "version": "3.6.8"
  }
 },
 "nbformat": 4,
 "nbformat_minor": 1
}
