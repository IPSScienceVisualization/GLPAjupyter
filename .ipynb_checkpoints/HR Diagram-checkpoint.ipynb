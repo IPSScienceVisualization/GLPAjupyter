{
 "cells": [
  {
   "cell_type": "markdown",
   "metadata": {},
   "source": [
    "# The H-R diagram\n",
    "This notebook will explore the HR diagram, perhaps the most important figure in astronomy, and a classic example of the power of data visualization.\n",
    "\n",
    "When we look at the Sky, some stars are bright and some faint. This is due not only to their intrinsic properties. but also to their distance from us. If we want to study the intrinsic properties of stars we need to have first determined their distances."
   ]
  },
  {
   "cell_type": "code",
   "execution_count": null,
   "metadata": {},
   "outputs": [],
   "source": [
    "from astropy.io import ascii\n",
    "from astropy.table import Table\n",
    "from astropy import units as u"
   ]
  },
  {
   "cell_type": "markdown",
   "metadata": {},
   "source": [
    "We'll be using a catalog of stars known as the [HGY database](http://www.astronexus.com/hyg). It is the combination of three surveys which have meadured distances. In the file I've provided in this repository I've filtered that catalog to only include columns we need and to also remove entries without measured distances and colors."
   ]
  },
  {
   "cell_type": "code",
   "execution_count": null,
   "metadata": {},
   "outputs": [],
   "source": [
    "starTable = ascii.read('HGY_dist.dat')\n",
    "starTable"
   ]
  },
  {
   "cell_type": "code",
   "execution_count": null,
   "metadata": {},
   "outputs": [],
   "source": [
    "# plotting imports\n",
    "import matplotlib.pyplot as plt\n",
    "%matplotlib inline\n",
    "#import seaborn\n",
    "import numpy as np\n",
    "from astropy.coordinates import Angle"
   ]
  },
  {
   "cell_type": "code",
   "execution_count": null,
   "metadata": {},
   "outputs": [],
   "source": [
    "import seaborn\n"
   ]
  },
  {
   "cell_type": "markdown",
   "metadata": {},
   "source": [
    "## Plotting the Skymap\n",
    "Let's see where those stars are on the sky"
   ]
  },
  {
   "cell_type": "code",
   "execution_count": null,
   "metadata": {},
   "outputs": [],
   "source": [
    "#seaborn.set_style((\"darkgrid\"))\n",
    "fig = plt.figure (figsize=(13,6))\n",
    "ax = fig.add_subplot(111,projection=\"mollweide\")\n",
    "plt.scatter(Angle(starTable[1:]['ra'],u.hr).wrap_at(180.*u.deg).radian,Angle(starTable[1:]['dec'],u.deg).radian,s=1,edgecolors='none')"
   ]
  },
  {
   "cell_type": "markdown",
   "metadata": {},
   "source": [
    "OK, well se can see our Galaxy in that plot, but not much else. Let's do another map, this time only showing stars brighter than 4th magnitude, and also scaling the stars bytheir brightness."
   ]
  },
  {
   "cell_type": "code",
   "execution_count": null,
   "metadata": {},
   "outputs": [],
   "source": [
    "fig = plt.figure (figsize=(13,6))\n",
    "ax = fig.add_subplot(111,projection=\"mollweide\")\n",
    "plt.scatter(Angle(starTable[1:]['ra'],u.hr).wrap_at(180.*u.deg).radian,Angle(starTable[1:]['dec'],u.deg).radian,s=(2.0*(4.0-starTable[1:]['mag'])))"
   ]
  },
  {
   "cell_type": "markdown",
   "metadata": {},
   "source": [
    "### Variable distributions\n",
    "To start let's see how the quantities we'll be working with are distributed."
   ]
  },
  {
   "cell_type": "code",
   "execution_count": null,
   "metadata": {},
   "outputs": [],
   "source": [
    "fig = plt.figure (figsize=(12,9))\n",
    "ax = fig.add_subplot(311)\n",
    "ax.hist(starTable['dist'],bins=100)\n",
    "ax.set_xlabel(\"Distance(pc)\")\n",
    "a2 = fig.add_subplot(312)\n",
    "a2.hist(starTable['absmag'],bins=100)\n",
    "a2.set_xlabel(\"M\")\n",
    "a3 = fig.add_subplot(313)\n",
    "a3.hist(starTable['ci'],bins=100)\n",
    "a3.set_xlabel(\"B-V\")"
   ]
  },
  {
   "cell_type": "markdown",
   "metadata": {},
   "source": [
    "## The HR Diagram\n",
    "Simply plotting Color vs Absolute Magniture gives us the HR Diagram"
   ]
  },
  {
   "cell_type": "code",
   "execution_count": null,
   "metadata": {},
   "outputs": [],
   "source": [
    "#seaborn.set_style((\"darkgrid\"))\n",
    "fig = plt.figure (figsize=(12.5, 7.5))\n",
    "plt.gca().invert_yaxis()\n",
    "plt.xlim(-0.5,2.5)\n",
    "plt.ylim(17,-7)\n",
    "plt.title('H-R Diagram',fontsize=26)\n",
    "plt.ylabel('Absolute Magnitude (V)')\n",
    "plt.xlabel('Color (B-V)')\n",
    "plt.scatter(starTable['ci'] ,starTable['absmag'],s=.5,edgecolors='none')"
   ]
  },
  {
   "cell_type": "code",
   "execution_count": null,
   "metadata": {},
   "outputs": [],
   "source": [
    "#seaborn.set_style((\"darkgrid\"), {\"axes.facecolor\": \".2\"})\n",
    "fig = plt.figure (figsize=(12.5, 7.5))\n",
    "plt.gca().invert_yaxis()\n",
    "plt.xlim(-0.5,2.5)\n",
    "plt.ylim(17,-7)\n",
    "plt.title('H-R Diagram',fontsize=26)\n",
    "plt.ylabel('Absolute Magnitude (V)')\n",
    "plt.xlabel('Color (B-V)')\n",
    "plt.scatter(starTable['ci'] ,starTable['absmag'],s=.5,cmap='coolwarm',c=starTable['ci'],edgecolors='none',vmin=0.0,vmax=1.5)"
   ]
  },
  {
   "cell_type": "markdown",
   "metadata": {
    "collapsed": true
   },
   "source": [
    "## HR Diagram and Stellar Evolution\n",
    "The grouping in the HR diagram led to the recogntion that the different regions in the diagram cooresponeded to an evolutionary sequence. We now have detailed models for how a star of a given mass evolves over its lifetime. [Here](http://www.epantaleo.com/wp-content/uploads/2015/10/HR_diagram_d3.html) is a visualization of the evolution of a 100 star cluster over 5 billions years. This was produced by Ester Panatelo, Aaron Geller and myself based on simulations run by Aaron Geller using the NBODY6 code which includes both gravitational interactions and steller evolution."
   ]
  },
  {
   "cell_type": "code",
   "execution_count": null,
   "metadata": {},
   "outputs": [],
   "source": [
    "from IPython.display import YouTubeVideo\n",
    "YouTubeVideo(\"qJMom80Qdc8\")"
   ]
  },
  {
   "cell_type": "markdown",
   "metadata": {},
   "source": [
    "## Color Magnitude Diagram of a Globular Clusters\n",
    "The color magnitude diagram is very similar to the HR diagram, except it is plotted using apparent rather than absolute magnitudes. If we were to construct this for a random sample of stars it would be a mess, however a cluster of stars are approximately at the same distance, so there is just a constant shift from the HR diagram based on the distance to the cluster."
   ]
  },
  {
   "cell_type": "markdown",
   "metadata": {},
   "source": [
    "##### We can conect to Worldwide Telescope to see the imagery of the cluster we are working with, Palomar 5"
   ]
  },
  {
   "cell_type": "code",
   "execution_count": null,
   "metadata": {},
   "outputs": [],
   "source": [
    "from pywwt.windows import WWTWindowsClient\n",
    "my_wwt = WWTWindowsClient()"
   ]
  },
  {
   "cell_type": "code",
   "execution_count": null,
   "metadata": {},
   "outputs": [],
   "source": [
    "# Tell WWT to Fly to the position of the cluster\n",
    "my_wwt.change_mode('Sky',fly_to=[-0.1082,229.0128/15,1,0.,0.])"
   ]
  },
  {
   "cell_type": "markdown",
   "metadata": {},
   "source": [
    "The catalog pal5.csv was created by soing a radial search for objects in the Sloan Digital Sky Survey [SDSS](http://sdss.org) for all abjects within three arcminuted of the center of the cluster."
   ]
  },
  {
   "cell_type": "code",
   "execution_count": null,
   "metadata": {},
   "outputs": [],
   "source": [
    "pal5 = ascii.read('pal5.csv')\n",
    "pal5"
   ]
  },
  {
   "cell_type": "markdown",
   "metadata": {},
   "source": [
    "Oops that contains everything SDSS identified in the direction of the cluster, we only want stars (not galaxies). We just keep things with type=6 (6 means star in this catalog, 3 galaxy)."
   ]
  },
  {
   "cell_type": "code",
   "execution_count": null,
   "metadata": {},
   "outputs": [],
   "source": [
    "mask = pal5['type']==6\n",
    "pal5_stars = pal5[mask]\n",
    "pal5_stars"
   ]
  },
  {
   "cell_type": "markdown",
   "metadata": {},
   "source": [
    "##### OK, now lets's see the catalog in WWT"
   ]
  },
  {
   "cell_type": "code",
   "execution_count": null,
   "metadata": {},
   "outputs": [],
   "source": [
    "#Set up WWT layer\n",
    "new_layer = my_wwt.new_layer(\"Sky\", \"Palomar 5\", pal5_stars.colnames)\n",
    "#Set visualization parameters in WWT\n",
    "props_dict = {\"CoordinatesType\":\"Spherical\",\\\n",
    "              \"MarkerScale\":\"Screen\",\\\n",
    "              \"PlotType\":\"Circle\",\\\n",
    "              \"PointScaleType\":\"Constant\",\\\n",
    "              \"ScaleFactor\":\"16\",\\\n",
    "              \"RaUnits\":\"Degrees\",\\\n",
    "              \"TimeSeries\":\"False\"}\n",
    "new_layer.set_properties(props_dict)\n",
    "#Send data to WWT client\n",
    "new_layer.update(data=pal5_stars, purge_all=True, no_purge=False, show=True)\n"
   ]
  },
  {
   "cell_type": "markdown",
   "metadata": {},
   "source": [
    "##### And now let's plot the color-magnitude diagram"
   ]
  },
  {
   "cell_type": "code",
   "execution_count": null,
   "metadata": {},
   "outputs": [],
   "source": [
    "#seaborn.set_style((\"darkgrid\"))\n",
    "fig = plt.figure (figsize=(7.5, 5))\n",
    "plt.gca().invert_yaxis()\n",
    "plt.xlim(-0.5,2.0)\n",
    "plt.ylim(25,16)\n",
    "plt.title('Color-Magnitude Diagram for Pal5',fontsize=26)\n",
    "plt.ylabel('Apparent Magnitude (g)')\n",
    "plt.xlabel('color (g-r)')\n",
    "plt.scatter(pal5_stars['g']-pal5_stars['r'] ,pal5_stars['g'],s=2,cmap='coolwarm',edgecolors='none',vmin=0.0,vmax=1.0)"
   ]
  },
  {
   "cell_type": "markdown",
   "metadata": {},
   "source": [
    "## Things for you to try:\n",
    "Now we can figure out a lot of things with HR color-magnitude diagrams. I'll get you started with the following exercises, but you'll have to do most of the work yourself."
   ]
  },
  {
   "cell_type": "markdown",
   "metadata": {},
   "source": [
    "#### Finding the Distance to Pal 5\n",
    "The color Magnitude Diagram uses apparent magnitudes instead of  absolute magnitudes. The difference between the apparent and absolute magnitude is known as the distance modulus = (m - M). Extimate the distance modulus from the shift in the two diagrams to esitmate the distance to Pal 5. Now things are a little complicared by the fact that we are using different magnitude systems (B and V vs. SDSS g andr). However the shifts between the two systems and can be ignored for this rough estimate."
   ]
  },
  {
   "cell_type": "code",
   "execution_count": null,
   "metadata": {},
   "outputs": [],
   "source": [
    "# This is the code for converting the distance Modulus to a distance \n",
    "from astropy.coordinates import Distance\n",
    "Distance(distmod=10.0)"
   ]
  },
  {
   "cell_type": "markdown",
   "metadata": {},
   "source": [
    "#### Which is older pal 5 or pal 3\n",
    "Construct the color-magnitude of Pal 3 (RA = 151.3801 deg, dec= 0.072 deg). By comparing the location of their main sequence turnoffs, can you figure out which cluster is older.\n",
    "\n",
    "I've already downloaded the data for you, you can download it from the repository like this:"
   ]
  },
  {
   "cell_type": "code",
   "execution_count": null,
   "metadata": {},
   "outputs": [],
   "source": [
    "# Load Pal 3 data\n",
    "pal3objects = ascii.read('pal3.csv')\n",
    "pal3objects"
   ]
  },
  {
   "cell_type": "markdown",
   "metadata": {},
   "source": [
    "#### Make an HR Diagram from Gaia Data Release 1 (2 million stars!)\n",
    "The [Gaia](http://sci.esa.int/gaia/) mission had recently released a sample of 2 million star distances, a number that dwarfs what we have been using. But that is nothing in April 2018 they will release a sample containing over one billion!!!\n",
    "\n",
    "Now this will be the ultimate HR diagram. I'll provide you with the code to download the catalog to get you started. Good  luck!"
   ]
  },
  {
   "cell_type": "code",
   "execution_count": null,
   "metadata": {},
   "outputs": [],
   "source": [
    "# We will download the catalog from the VizieR catalog service\n",
    "from astroquery.vizier import Vizier\n",
    "v = Vizier()\n",
    "v.ROW_LIMIT = -1 # Without this there is a limit\n",
    "catalogs = v.get_catalogs('I/337/tgas')\n",
    "GaiaStars=catlogs[0]"
   ]
  }
 ],
 "metadata": {
  "anaconda-cloud": {},
  "kernelspec": {
   "display_name": "Python 3",
   "language": "python",
   "name": "python3"
  },
  "language_info": {
   "codemirror_mode": {
    "name": "ipython",
    "version": 3
   },
   "file_extension": ".py",
   "mimetype": "text/x-python",
   "name": "python",
   "nbconvert_exporter": "python",
   "pygments_lexer": "ipython3",
   "version": "3.6.8"
  }
 },
 "nbformat": 4,
 "nbformat_minor": 1
}
