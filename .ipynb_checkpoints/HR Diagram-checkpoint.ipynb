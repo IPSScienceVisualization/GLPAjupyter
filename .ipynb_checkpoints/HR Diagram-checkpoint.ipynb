{
 "cells": [
  {
   "cell_type": "markdown",
   "metadata": {},
   "source": [
    "# The H-R diagram\n",
    "This notebook will explore the HR diagram, perhaps the most important figure in astronomy, and a classic example of the power of data visualization.\n",
    "\n",
    "When we look at the Sky, some stars are bright and some faint. This is due not only to their intrinsic properties. but also to their distance from us. If we want to study the intrinsic properties of stars we need to have first determined their distances."
   ]
  },
  {
   "cell_type": "code",
   "execution_count": 1,
   "metadata": {},
   "outputs": [],
   "source": [
    "from astropy.io import ascii\n",
    "from astropy.table import Table\n",
    "from astropy import units as u"
   ]
  },
  {
   "cell_type": "markdown",
   "metadata": {},
   "source": [
    "We'll be using a catalog of stars known as the [HGY database](http://www.astronexus.com/hyg). It is the combination of three surveys which have meadured distances. In the file I've provided in this repository I've filtered that catalog to only include columns we need and to also remove entries without measured distances and colors."
   ]
  },
  {
   "cell_type": "code",
   "execution_count": 2,
   "metadata": {},
   "outputs": [
    {
     "data": {
      "text/html": [
       "&lt;Table length=107857&gt;\n",
       "<table id=\"table1754204259664\" class=\"table-striped table-bordered table-condensed\">\n",
       "<thead><tr><th>proper</th><th>ra</th><th>dec</th><th>dist</th><th>mag</th><th>absmag</th><th>spect</th><th>ci</th></tr></thead>\n",
       "<thead><tr><th>str20</th><th>float64</th><th>float64</th><th>float64</th><th>float64</th><th>float64</th><th>str12</th><th>float64</th></tr></thead>\n",
       "<tr><td>Sol</td><td>0.0</td><td>0.0</td><td>0.0</td><td>-26.7</td><td>4.85</td><td>G2V</td><td>0.656</td></tr>\n",
       "<tr><td>--</td><td>6e-05</td><td>1.089009</td><td>219.7802</td><td>9.1</td><td>2.39</td><td>F5</td><td>0.482</td></tr>\n",
       "<tr><td>--</td><td>0.000283</td><td>-19.49884</td><td>47.9616</td><td>9.27</td><td>5.866</td><td>K3V</td><td>0.999</td></tr>\n",
       "<tr><td>--</td><td>0.000335</td><td>38.859279</td><td>442.4779</td><td>6.61</td><td>-1.619</td><td>B9</td><td>-0.019</td></tr>\n",
       "<tr><td>--</td><td>0.000569</td><td>-51.893546</td><td>134.2282</td><td>8.06</td><td>2.421</td><td>F0V</td><td>0.37</td></tr>\n",
       "<tr><td>--</td><td>0.000665</td><td>-40.591202</td><td>257.732</td><td>8.55</td><td>1.494</td><td>G8III</td><td>0.902</td></tr>\n",
       "<tr><td>--</td><td>0.001246</td><td>3.946458</td><td>55.0358</td><td>12.31</td><td>8.607</td><td>M0V:</td><td>1.336</td></tr>\n",
       "<tr><td>--</td><td>0.00147</td><td>20.036114</td><td>57.8704</td><td>9.64</td><td>5.828</td><td>G0</td><td>0.74</td></tr>\n",
       "<tr><td>--</td><td>0.001823</td><td>25.886461</td><td>200.8032</td><td>9.05</td><td>2.536</td><td>M6e-M8.5e Tc</td><td>1.102</td></tr>\n",
       "<tr><td>--</td><td>0.002355</td><td>36.585958</td><td>420.1681</td><td>8.59</td><td>0.473</td><td>G5</td><td>1.067</td></tr>\n",
       "<tr><td>...</td><td>...</td><td>...</td><td>...</td><td>...</td><td>...</td><td>...</td><td>...</td></tr>\n",
       "<tr><td>--</td><td>23.730688</td><td>32.546681</td><td>16.6362</td><td>12.9</td><td>11.795</td><td>DA4</td><td>0.15</td></tr>\n",
       "<tr><td>--</td><td>23.739154</td><td>21.600277</td><td>22.1729</td><td>13.3</td><td>11.571</td><td>m</td><td>1.59</td></tr>\n",
       "<tr><td>--</td><td>23.82702</td><td>8.353256</td><td>25.0</td><td>11.39</td><td>9.4</td><td>M1</td><td>1.45</td></tr>\n",
       "<tr><td>--</td><td>23.831738</td><td>29.567389</td><td>21.2766</td><td>15.72</td><td>14.08</td><td>DA9</td><td>0.58</td></tr>\n",
       "<tr><td>--</td><td>23.843327</td><td>9.949119</td><td>12.987</td><td>11.5</td><td>10.932</td><td>M1</td><td>1.45</td></tr>\n",
       "<tr><td>--</td><td>23.907325</td><td>8.160904</td><td>23.2558</td><td>13.01</td><td>11.177</td><td>M3:</td><td>1.5</td></tr>\n",
       "<tr><td>--</td><td>23.962079</td><td>23.303973</td><td>13.8696</td><td>11.72</td><td>11.01</td><td>k-m</td><td>1.54</td></tr>\n",
       "<tr><td>--</td><td>23.996567</td><td>47.762093</td><td>16.7224</td><td>16.1</td><td>14.984</td><td>m</td><td>1.87</td></tr>\n",
       "<tr><td>--</td><td>23.996218</td><td>-44.067905</td><td>18.5185</td><td>12.82</td><td>11.482</td><td>M7</td><td>1.64</td></tr>\n",
       "<tr><td>--</td><td>0.036059</td><td>-43.165974</td><td>7.8003</td><td>13.05</td><td>13.589</td><td>DA5</td><td>0.07</td></tr>\n",
       "</table>"
      ],
      "text/plain": [
       "<Table length=107857>\n",
       "proper     ra       dec       dist     mag    absmag    spect        ci  \n",
       "str20   float64   float64   float64  float64 float64    str12     float64\n",
       "------ --------- ---------- -------- ------- ------- ------------ -------\n",
       "   Sol       0.0        0.0      0.0   -26.7    4.85          G2V   0.656\n",
       "    --     6e-05   1.089009 219.7802     9.1    2.39           F5   0.482\n",
       "    --  0.000283  -19.49884  47.9616    9.27   5.866          K3V   0.999\n",
       "    --  0.000335  38.859279 442.4779    6.61  -1.619           B9  -0.019\n",
       "    --  0.000569 -51.893546 134.2282    8.06   2.421          F0V    0.37\n",
       "    --  0.000665 -40.591202  257.732    8.55   1.494        G8III   0.902\n",
       "    --  0.001246   3.946458  55.0358   12.31   8.607         M0V:   1.336\n",
       "    --   0.00147  20.036114  57.8704    9.64   5.828           G0    0.74\n",
       "    --  0.001823  25.886461 200.8032    9.05   2.536 M6e-M8.5e Tc   1.102\n",
       "    --  0.002355  36.585958 420.1681    8.59   0.473           G5   1.067\n",
       "   ...       ...        ...      ...     ...     ...          ...     ...\n",
       "    -- 23.730688  32.546681  16.6362    12.9  11.795          DA4    0.15\n",
       "    -- 23.739154  21.600277  22.1729    13.3  11.571            m    1.59\n",
       "    --  23.82702   8.353256     25.0   11.39     9.4           M1    1.45\n",
       "    -- 23.831738  29.567389  21.2766   15.72   14.08          DA9    0.58\n",
       "    -- 23.843327   9.949119   12.987    11.5  10.932           M1    1.45\n",
       "    -- 23.907325   8.160904  23.2558   13.01  11.177          M3:     1.5\n",
       "    -- 23.962079  23.303973  13.8696   11.72   11.01          k-m    1.54\n",
       "    -- 23.996567  47.762093  16.7224    16.1  14.984            m    1.87\n",
       "    -- 23.996218 -44.067905  18.5185   12.82  11.482           M7    1.64\n",
       "    --  0.036059 -43.165974   7.8003   13.05  13.589          DA5    0.07"
      ]
     },
     "execution_count": 2,
     "metadata": {},
     "output_type": "execute_result"
    }
   ],
   "source": [
    "starTable = ascii.read('HGY_dist.dat')\n",
    "starTable"
   ]
  },
  {
   "cell_type": "code",
   "execution_count": 3,
   "metadata": {},
   "outputs": [
    {
     "ename": "ImportError",
     "evalue": "DLL load failed: The specified module could not be found.",
     "output_type": "error",
     "traceback": [
      "\u001b[0;31m---------------------------------------------------------------------------\u001b[0m",
      "\u001b[0;31mImportError\u001b[0m                               Traceback (most recent call last)",
      "\u001b[0;32m<ipython-input-3-a62c884260ba>\u001b[0m in \u001b[0;36m<module>\u001b[0;34m()\u001b[0m\n\u001b[1;32m      2\u001b[0m \u001b[1;32mimport\u001b[0m \u001b[0mmatplotlib\u001b[0m\u001b[1;33m.\u001b[0m\u001b[0mpyplot\u001b[0m \u001b[1;32mas\u001b[0m \u001b[0mplt\u001b[0m\u001b[1;33m\u001b[0m\u001b[0m\n\u001b[1;32m      3\u001b[0m \u001b[0mget_ipython\u001b[0m\u001b[1;33m(\u001b[0m\u001b[1;33m)\u001b[0m\u001b[1;33m.\u001b[0m\u001b[0mmagic\u001b[0m\u001b[1;33m(\u001b[0m\u001b[1;34m'matplotlib inline'\u001b[0m\u001b[1;33m)\u001b[0m\u001b[1;33m\u001b[0m\u001b[0m\n\u001b[0;32m----> 4\u001b[0;31m \u001b[1;32mimport\u001b[0m \u001b[0mseaborn\u001b[0m\u001b[1;33m\u001b[0m\u001b[0m\n\u001b[0m\u001b[1;32m      5\u001b[0m \u001b[1;32mimport\u001b[0m \u001b[0mnumpy\u001b[0m \u001b[1;32mas\u001b[0m \u001b[0mnp\u001b[0m\u001b[1;33m\u001b[0m\u001b[0m\n\u001b[1;32m      6\u001b[0m \u001b[1;32mfrom\u001b[0m \u001b[0mastropy\u001b[0m\u001b[1;33m.\u001b[0m\u001b[0mcoordinates\u001b[0m \u001b[1;32mimport\u001b[0m \u001b[0mAngle\u001b[0m\u001b[1;33m\u001b[0m\u001b[0m\n",
      "\u001b[0;32mC:\\Users\\msubbarao\\AppData\\Local\\Continuum\\Anaconda3\\lib\\site-packages\\seaborn\\__init__.py\u001b[0m in \u001b[0;36m<module>\u001b[0;34m()\u001b[0m\n\u001b[1;32m      4\u001b[0m \u001b[1;33m\u001b[0m\u001b[0m\n\u001b[1;32m      5\u001b[0m \u001b[1;31m# Import seaborn objects\u001b[0m\u001b[1;33m\u001b[0m\u001b[1;33m\u001b[0m\u001b[0m\n\u001b[0;32m----> 6\u001b[0;31m \u001b[1;32mfrom\u001b[0m \u001b[1;33m.\u001b[0m\u001b[0mrcmod\u001b[0m \u001b[1;32mimport\u001b[0m \u001b[1;33m*\u001b[0m\u001b[1;33m\u001b[0m\u001b[0m\n\u001b[0m\u001b[1;32m      7\u001b[0m \u001b[1;32mfrom\u001b[0m \u001b[1;33m.\u001b[0m\u001b[0mutils\u001b[0m \u001b[1;32mimport\u001b[0m \u001b[1;33m*\u001b[0m\u001b[1;33m\u001b[0m\u001b[0m\n\u001b[1;32m      8\u001b[0m \u001b[1;32mfrom\u001b[0m \u001b[1;33m.\u001b[0m\u001b[0mpalettes\u001b[0m \u001b[1;32mimport\u001b[0m \u001b[1;33m*\u001b[0m\u001b[1;33m\u001b[0m\u001b[0m\n",
      "\u001b[0;32mC:\\Users\\msubbarao\\AppData\\Local\\Continuum\\Anaconda3\\lib\\site-packages\\seaborn\\rcmod.py\u001b[0m in \u001b[0;36m<module>\u001b[0;34m()\u001b[0m\n\u001b[1;32m      6\u001b[0m \u001b[1;32mimport\u001b[0m \u001b[0mmatplotlib\u001b[0m \u001b[1;32mas\u001b[0m \u001b[0mmpl\u001b[0m\u001b[1;33m\u001b[0m\u001b[0m\n\u001b[1;32m      7\u001b[0m \u001b[1;33m\u001b[0m\u001b[0m\n\u001b[0;32m----> 8\u001b[0;31m \u001b[1;32mfrom\u001b[0m \u001b[1;33m.\u001b[0m \u001b[1;32mimport\u001b[0m \u001b[0mpalettes\u001b[0m\u001b[1;33m,\u001b[0m \u001b[0m_orig_rc_params\u001b[0m\u001b[1;33m\u001b[0m\u001b[0m\n\u001b[0m\u001b[1;32m      9\u001b[0m \u001b[1;33m\u001b[0m\u001b[0m\n\u001b[1;32m     10\u001b[0m \u001b[1;33m\u001b[0m\u001b[0m\n",
      "\u001b[0;32mC:\\Users\\msubbarao\\AppData\\Local\\Continuum\\Anaconda3\\lib\\site-packages\\seaborn\\palettes.py\u001b[0m in \u001b[0;36m<module>\u001b[0;34m()\u001b[0m\n\u001b[1;32m     10\u001b[0m \u001b[1;32mfrom\u001b[0m \u001b[1;33m.\u001b[0m\u001b[0mexternal\u001b[0m\u001b[1;33m.\u001b[0m\u001b[0msix\u001b[0m\u001b[1;33m.\u001b[0m\u001b[0mmoves\u001b[0m \u001b[1;32mimport\u001b[0m \u001b[0mrange\u001b[0m\u001b[1;33m\u001b[0m\u001b[0m\n\u001b[1;32m     11\u001b[0m \u001b[1;33m\u001b[0m\u001b[0m\n\u001b[0;32m---> 12\u001b[0;31m \u001b[1;32mfrom\u001b[0m \u001b[1;33m.\u001b[0m\u001b[0mutils\u001b[0m \u001b[1;32mimport\u001b[0m \u001b[0mdesaturate\u001b[0m\u001b[1;33m,\u001b[0m \u001b[0mset_hls_values\u001b[0m\u001b[1;33m,\u001b[0m \u001b[0mget_color_cycle\u001b[0m\u001b[1;33m\u001b[0m\u001b[0m\n\u001b[0m\u001b[1;32m     13\u001b[0m \u001b[1;32mfrom\u001b[0m \u001b[1;33m.\u001b[0m\u001b[0mxkcd_rgb\u001b[0m \u001b[1;32mimport\u001b[0m \u001b[0mxkcd_rgb\u001b[0m\u001b[1;33m\u001b[0m\u001b[0m\n\u001b[1;32m     14\u001b[0m \u001b[1;32mfrom\u001b[0m \u001b[1;33m.\u001b[0m\u001b[0mcrayons\u001b[0m \u001b[1;32mimport\u001b[0m \u001b[0mcrayons\u001b[0m\u001b[1;33m\u001b[0m\u001b[0m\n",
      "\u001b[0;32mC:\\Users\\msubbarao\\AppData\\Local\\Continuum\\Anaconda3\\lib\\site-packages\\seaborn\\utils.py\u001b[0m in \u001b[0;36m<module>\u001b[0;34m()\u001b[0m\n\u001b[1;32m      6\u001b[0m \u001b[1;33m\u001b[0m\u001b[0m\n\u001b[1;32m      7\u001b[0m \u001b[1;32mimport\u001b[0m \u001b[0mnumpy\u001b[0m \u001b[1;32mas\u001b[0m \u001b[0mnp\u001b[0m\u001b[1;33m\u001b[0m\u001b[0m\n\u001b[0;32m----> 8\u001b[0;31m \u001b[1;32mfrom\u001b[0m \u001b[0mscipy\u001b[0m \u001b[1;32mimport\u001b[0m \u001b[0mstats\u001b[0m\u001b[1;33m\u001b[0m\u001b[0m\n\u001b[0m\u001b[1;32m      9\u001b[0m \u001b[1;32mimport\u001b[0m \u001b[0mpandas\u001b[0m \u001b[1;32mas\u001b[0m \u001b[0mpd\u001b[0m\u001b[1;33m\u001b[0m\u001b[0m\n\u001b[1;32m     10\u001b[0m \u001b[1;32mimport\u001b[0m \u001b[0mmatplotlib\u001b[0m \u001b[1;32mas\u001b[0m \u001b[0mmpl\u001b[0m\u001b[1;33m\u001b[0m\u001b[0m\n",
      "\u001b[0;32mC:\\Users\\msubbarao\\AppData\\Local\\Continuum\\Anaconda3\\lib\\site-packages\\scipy\\stats\\__init__.py\u001b[0m in \u001b[0;36m<module>\u001b[0;34m()\u001b[0m\n\u001b[1;32m    343\u001b[0m \u001b[1;32mfrom\u001b[0m \u001b[0m__future__\u001b[0m \u001b[1;32mimport\u001b[0m \u001b[0mdivision\u001b[0m\u001b[1;33m,\u001b[0m \u001b[0mprint_function\u001b[0m\u001b[1;33m,\u001b[0m \u001b[0mabsolute_import\u001b[0m\u001b[1;33m\u001b[0m\u001b[0m\n\u001b[1;32m    344\u001b[0m \u001b[1;33m\u001b[0m\u001b[0m\n\u001b[0;32m--> 345\u001b[0;31m \u001b[1;32mfrom\u001b[0m \u001b[1;33m.\u001b[0m\u001b[0mstats\u001b[0m \u001b[1;32mimport\u001b[0m \u001b[1;33m*\u001b[0m\u001b[1;33m\u001b[0m\u001b[0m\n\u001b[0m\u001b[1;32m    346\u001b[0m \u001b[1;32mfrom\u001b[0m \u001b[1;33m.\u001b[0m\u001b[0mdistributions\u001b[0m \u001b[1;32mimport\u001b[0m \u001b[1;33m*\u001b[0m\u001b[1;33m\u001b[0m\u001b[0m\n\u001b[1;32m    347\u001b[0m \u001b[1;32mfrom\u001b[0m \u001b[1;33m.\u001b[0m\u001b[0mmorestats\u001b[0m \u001b[1;32mimport\u001b[0m \u001b[1;33m*\u001b[0m\u001b[1;33m\u001b[0m\u001b[0m\n",
      "\u001b[0;32mC:\\Users\\msubbarao\\AppData\\Local\\Continuum\\Anaconda3\\lib\\site-packages\\scipy\\stats\\stats.py\u001b[0m in \u001b[0;36m<module>\u001b[0;34m()\u001b[0m\n\u001b[1;32m    167\u001b[0m \u001b[1;32mfrom\u001b[0m \u001b[0mscipy\u001b[0m\u001b[1;33m.\u001b[0m\u001b[0m_lib\u001b[0m\u001b[1;33m.\u001b[0m\u001b[0msix\u001b[0m \u001b[1;32mimport\u001b[0m \u001b[0mcallable\u001b[0m\u001b[1;33m,\u001b[0m \u001b[0mstring_types\u001b[0m\u001b[1;33m\u001b[0m\u001b[0m\n\u001b[1;32m    168\u001b[0m \u001b[1;32mfrom\u001b[0m \u001b[0mscipy\u001b[0m\u001b[1;33m.\u001b[0m\u001b[0m_lib\u001b[0m\u001b[1;33m.\u001b[0m\u001b[0m_version\u001b[0m \u001b[1;32mimport\u001b[0m \u001b[0mNumpyVersion\u001b[0m\u001b[1;33m\u001b[0m\u001b[0m\n\u001b[0;32m--> 169\u001b[0;31m \u001b[1;32mimport\u001b[0m \u001b[0mscipy\u001b[0m\u001b[1;33m.\u001b[0m\u001b[0mspecial\u001b[0m \u001b[1;32mas\u001b[0m \u001b[0mspecial\u001b[0m\u001b[1;33m\u001b[0m\u001b[0m\n\u001b[0m\u001b[1;32m    170\u001b[0m \u001b[1;32mimport\u001b[0m \u001b[0mscipy\u001b[0m\u001b[1;33m.\u001b[0m\u001b[0mlinalg\u001b[0m \u001b[1;32mas\u001b[0m \u001b[0mlinalg\u001b[0m\u001b[1;33m\u001b[0m\u001b[0m\n\u001b[1;32m    171\u001b[0m \u001b[1;32mfrom\u001b[0m \u001b[1;33m.\u001b[0m \u001b[1;32mimport\u001b[0m \u001b[0mdistributions\u001b[0m\u001b[1;33m\u001b[0m\u001b[0m\n",
      "\u001b[0;32mC:\\Users\\msubbarao\\AppData\\Local\\Continuum\\Anaconda3\\lib\\site-packages\\scipy\\special\\__init__.py\u001b[0m in \u001b[0;36m<module>\u001b[0;34m()\u001b[0m\n\u001b[1;32m    638\u001b[0m \u001b[1;32mfrom\u001b[0m \u001b[1;33m.\u001b[0m\u001b[0msf_error\u001b[0m \u001b[1;32mimport\u001b[0m \u001b[0mSpecialFunctionWarning\u001b[0m\u001b[1;33m,\u001b[0m \u001b[0mSpecialFunctionError\u001b[0m\u001b[1;33m\u001b[0m\u001b[0m\n\u001b[1;32m    639\u001b[0m \u001b[1;33m\u001b[0m\u001b[0m\n\u001b[0;32m--> 640\u001b[0;31m \u001b[1;32mfrom\u001b[0m \u001b[1;33m.\u001b[0m\u001b[0m_ufuncs\u001b[0m \u001b[1;32mimport\u001b[0m \u001b[1;33m*\u001b[0m\u001b[1;33m\u001b[0m\u001b[0m\n\u001b[0m\u001b[1;32m    641\u001b[0m \u001b[1;33m\u001b[0m\u001b[0m\n\u001b[1;32m    642\u001b[0m \u001b[1;32mfrom\u001b[0m \u001b[1;33m.\u001b[0m\u001b[0mbasic\u001b[0m \u001b[1;32mimport\u001b[0m \u001b[1;33m*\u001b[0m\u001b[1;33m\u001b[0m\u001b[0m\n",
      "\u001b[0;31mImportError\u001b[0m: DLL load failed: The specified module could not be found."
     ]
    }
   ],
   "source": [
    "# plotting imports\n",
    "import matplotlib.pyplot as plt\n",
    "%matplotlib inline\n",
    "import seaborn\n",
    "import numpy as np\n",
    "from astropy.coordinates import Angle"
   ]
  },
  {
   "cell_type": "markdown",
   "metadata": {},
   "source": [
    "## Plotting the Skymap\n",
    "Let's see where those stars are on the sky"
   ]
  },
  {
   "cell_type": "code",
   "execution_count": null,
   "metadata": {},
   "outputs": [],
   "source": [
    "seaborn.set_style((\"darkgrid\"))\n",
    "fig = plt.figure (figsize=(13,6))\n",
    "ax = fig.add_subplot(111,projection=\"mollweide\")\n",
    "plt.scatter(Angle(starTable[1:]['ra'],u.hr).wrap_at(180.*u.deg).radian,Angle(starTable[1:]['dec'],u.deg).radian,s=1,edgecolors='none')"
   ]
  },
  {
   "cell_type": "markdown",
   "metadata": {},
   "source": [
    "OK, well se can see our Galaxy in that plot, but not much else. Let's do another map, this time only showing stars brighter than 4th magnitude, and also scaling the stars bytheir brightness."
   ]
  },
  {
   "cell_type": "code",
   "execution_count": null,
   "metadata": {},
   "outputs": [],
   "source": [
    "fig = plt.figure (figsize=(13,6))\n",
    "ax = fig.add_subplot(111,projection=\"mollweide\")\n",
    "plt.scatter(Angle(starTable[1:]['ra'],u.hr).wrap_at(180.*u.deg).radian,Angle(starTable[1:]['dec'],u.deg).radian,s=(2.0*(4.0-starTable[1:]['mag'])))"
   ]
  },
  {
   "cell_type": "markdown",
   "metadata": {},
   "source": [
    "### Variable distributions\n",
    "To start let's see how the quantities we'll be working with are distributed."
   ]
  },
  {
   "cell_type": "code",
   "execution_count": null,
   "metadata": {},
   "outputs": [],
   "source": [
    "fig = plt.figure (figsize=(9,9))\n",
    "ax = fig.add_subplot(311)\n",
    "ax.hist(starTable['dist'],bins=100)\n",
    "ax.set_xlabel(\"Distance(pc)\")\n",
    "a2 = fig.add_subplot(312)\n",
    "a2.hist(starTable['absmag'],bins=100)\n",
    "a2.set_xlabel(\"M\")\n",
    "a3 = fig.add_subplot(313)\n",
    "a3.hist(starTable['ci'],bins=100)\n",
    "a3.set_xlabel(\"B-V\")"
   ]
  },
  {
   "cell_type": "markdown",
   "metadata": {},
   "source": [
    "## The HR Diagram\n",
    "Simply plotting Color vs Absolute Magniture gives us the HR Diagram"
   ]
  },
  {
   "cell_type": "code",
   "execution_count": null,
   "metadata": {},
   "outputs": [],
   "source": [
    "seaborn.set_style((\"darkgrid\"))\n",
    "fig = plt.figure (figsize=(7.5, 5))\n",
    "plt.gca().invert_yaxis()\n",
    "plt.xlim(-0.5,2.5)\n",
    "plt.ylim(17,-7)\n",
    "plt.title('H-R Diagram',fontsize=26)\n",
    "plt.ylabel('Absolute Magnitude (V)')\n",
    "plt.xlabel('Color (B-V)')\n",
    "plt.scatter(starTable['ci'] ,starTable['absmag'],s=.5,edgecolors='none')"
   ]
  },
  {
   "cell_type": "code",
   "execution_count": null,
   "metadata": {},
   "outputs": [],
   "source": [
    "seaborn.set_style((\"darkgrid\"), {\"axes.facecolor\": \".2\"})\n",
    "fig = plt.figure (figsize=(7.5, 5))\n",
    "plt.gca().invert_yaxis()\n",
    "plt.xlim(-0.5,2.5)\n",
    "plt.ylim(17,-7)\n",
    "plt.title('H-R Diagram',fontsize=26)\n",
    "plt.ylabel('Absolute Magnitude (V)')\n",
    "plt.xlabel('Color (B-V)')\n",
    "plt.scatter(starTable['ci'] ,starTable['absmag'],s=.5,cmap='coolwarm',c=starTable['ci'],edgecolors='none',vmin=0.0,vmax=1.5)"
   ]
  },
  {
   "cell_type": "markdown",
   "metadata": {
    "collapsed": true
   },
   "source": [
    "## HR Diagram and Stellar Evolution\n",
    "The grouping in the HR diagram led to the recogntion that the different regions in the diagram cooresponeded to an evolutionary sequence. We now have detailed models for how a star of a given mass evolves over its lifetime. [Here](http://www.epantaleo.com/wp-content/uploads/2015/10/HR_diagram_d3.html) is a visualization of the evolution of a 100 star cluster over 5 billions years. This was produced by Ester Panatelo, Aaron Geller and myself based on simulations run by Aaron Geller using the NBODY6 code which includes both gravitational interactions and steller evolution."
   ]
  },
  {
   "cell_type": "code",
   "execution_count": null,
   "metadata": {},
   "outputs": [],
   "source": [
    "from IPython.display import YouTubeVideo\n",
    "YouTubeVideo(\"qJMom80Qdc8\")"
   ]
  },
  {
   "cell_type": "markdown",
   "metadata": {},
   "source": [
    "## Color Magnitude Diagram of a Globular Clusters\n",
    "The color magnitude diagram is very similar to the HR diagram, except it is plotted using apparent rather than absolute magnitudes. If we were to construct this for a random sample of stars it would be a mess, however a cluster of stars are approximately at the same distance, so there is just a constant shift from the HR diagram based on the distance to the cluster."
   ]
  },
  {
   "cell_type": "markdown",
   "metadata": {},
   "source": [
    "##### We can conect to Worldwide Telescope to see the imagery of the cluster we are working with, Palomar 5"
   ]
  },
  {
   "cell_type": "code",
   "execution_count": null,
   "metadata": {},
   "outputs": [],
   "source": [
    "import pywwt\n",
    "my_wwt = pywwt.WWTClient()"
   ]
  },
  {
   "cell_type": "code",
   "execution_count": null,
   "metadata": {},
   "outputs": [],
   "source": [
    "# Tell WWT to Fly to the position of the cluster\n",
    "my_wwt.change_mode('Sky',fly_to=[-0.1082,229.0128/15,1,0.,0.])"
   ]
  },
  {
   "cell_type": "markdown",
   "metadata": {},
   "source": [
    "The catalog pal5.csv was created by soing a radial search for objects in the Sloan Digital Sky Survey [SDSS](http://sdss.org) for all abjects within three arcminuted of the center of the cluster."
   ]
  },
  {
   "cell_type": "code",
   "execution_count": null,
   "metadata": {},
   "outputs": [],
   "source": [
    "pal5 = ascii.read('pal5.csv')\n",
    "pal5"
   ]
  },
  {
   "cell_type": "markdown",
   "metadata": {},
   "source": [
    "Oops that contains everything SDSS identified in the direction of the cluster, we only want stars (not galaxies). We just keep things with type=6 (6 means star in this catalog, 3 galaxy)."
   ]
  },
  {
   "cell_type": "code",
   "execution_count": null,
   "metadata": {},
   "outputs": [],
   "source": [
    "mask = pal5['type']==6\n",
    "pal5_stars = pal5[mask]\n",
    "pal5_stars"
   ]
  },
  {
   "cell_type": "markdown",
   "metadata": {},
   "source": [
    "##### OK, now lets's see the catalog in WWT"
   ]
  },
  {
   "cell_type": "code",
   "execution_count": null,
   "metadata": {},
   "outputs": [],
   "source": [
    "#Set up WWT layer\n",
    "new_layer = my_wwt.new_layer(\"Sky\", \"Palomar 5\", pal5_stars.colnames)\n",
    "#Set visualization parameters in WWT\n",
    "props_dict = {\"CoordinatesType\":\"Spherical\",\\\n",
    "              \"MarkerScale\":\"Screen\",\\\n",
    "              \"PlotType\":\"Circle\",\\\n",
    "              \"PointScaleType\":\"Constant\",\\\n",
    "              \"ScaleFactor\":\"16\",\\\n",
    "              \"RaUnits\":\"Degrees\",\\\n",
    "              \"TimeSeries\":\"False\"}\n",
    "new_layer.set_properties(props_dict)\n",
    "#Send data to WWT client\n",
    "new_layer.update(data=pal5_stars, purge_all=True, no_purge=False, show=True)\n"
   ]
  },
  {
   "cell_type": "markdown",
   "metadata": {},
   "source": [
    "##### And now let's plot the color-magnitude diagram"
   ]
  },
  {
   "cell_type": "code",
   "execution_count": null,
   "metadata": {},
   "outputs": [],
   "source": [
    "seaborn.set_style((\"darkgrid\"))\n",
    "fig = plt.figure (figsize=(7.5, 5))\n",
    "plt.gca().invert_yaxis()\n",
    "plt.xlim(-0.5,2.0)\n",
    "plt.ylim(25,16)\n",
    "plt.title('Color-Magnitude Diagram for Pal5',fontsize=26)\n",
    "plt.ylabel('Apparent Magnitude (g)')\n",
    "plt.xlabel('color (g-r)')\n",
    "plt.scatter(pal5_stars['g']-pal5_stars['r'] ,pal5_stars['g'],s=2,cmap='coolwarm',edgecolors='none',vmin=0.0,vmax=1.0)"
   ]
  },
  {
   "cell_type": "markdown",
   "metadata": {},
   "source": [
    "## Things for you to try:\n",
    "Now we can figure out a lot of things with HR color-magnitude diagrams. I'll get you started with the following exercises, but you'll have to do most of the work yourself."
   ]
  },
  {
   "cell_type": "markdown",
   "metadata": {},
   "source": [
    "#### Finding the Distance to Pal 5\n",
    "The color Magnitude Diagram uses apparent magnitudes instead of  absolute magnitudes. The difference between the apparent and absolute magnitude is known as the distance modulus = (m - M). Extimate the distance modulus from the shift in the two diagrams to esitmate the distance to Pal 5. Now things are a little complicared by the fact that we are using different magnitude systems (B and V vs. SDSS g andr). However the shifts between the two systems and can be ignored for this rough estimate."
   ]
  },
  {
   "cell_type": "code",
   "execution_count": null,
   "metadata": {},
   "outputs": [],
   "source": [
    "# This is the code for converting the distance Modulus to a distance \n",
    "from astropy.coordinates import Distance\n",
    "Distance(distmod=10.0)"
   ]
  },
  {
   "cell_type": "markdown",
   "metadata": {},
   "source": [
    "#### Which is older pal 5 or pal 3\n",
    "Construct the color-magnitude of Pal 3 (RA = 151.3801 deg, dec= 0.072 deg). By comparing the location of their main sequence turnoffs, can you figure out which cluster is older.\n",
    "\n",
    "I've already downloaded the data for you, you can download it from the repository like this:"
   ]
  },
  {
   "cell_type": "code",
   "execution_count": null,
   "metadata": {},
   "outputs": [],
   "source": [
    "# Load Pal 3 data\n",
    "pal3objects = ascii.read('pal3.csv')\n",
    "pal3objects"
   ]
  },
  {
   "cell_type": "markdown",
   "metadata": {},
   "source": [
    "#### Make an HR Diagram from Gaia Data Release 1 (2 million stars!)\n",
    "The [Gaia](http://sci.esa.int/gaia/) mission had recently released a sample of 2 million star distances, a number that dwarfs what we have been using. But that is nothing in April 2018 they will release a sample containing over one billion!!!\n",
    "\n",
    "Now this will be the ultimate HR diagram. I'll provide you with the code to download the catalog to get you started. Good  luck!"
   ]
  },
  {
   "cell_type": "code",
   "execution_count": null,
   "metadata": {},
   "outputs": [],
   "source": [
    "# We will download the catalog from the VizieR catalog service\n",
    "from astroquery.vizier import Vizier\n",
    "v = Vizier()\n",
    "v.ROW_LIMIT = -1 # Without this there is a limit\n",
    "catalogs = v.get_catalogs('I/337/tgas')\n",
    "GaiaStars=catlogs[0]"
   ]
  }
 ],
 "metadata": {
  "anaconda-cloud": {},
  "kernelspec": {
   "display_name": "Python [conda root]",
   "language": "python",
   "name": "conda-root-py"
  },
  "language_info": {
   "codemirror_mode": {
    "name": "ipython",
    "version": 3
   },
   "file_extension": ".py",
   "mimetype": "text/x-python",
   "name": "python",
   "nbconvert_exporter": "python",
   "pygments_lexer": "ipython3",
   "version": "3.5.2"
  }
 },
 "nbformat": 4,
 "nbformat_minor": 1
}
