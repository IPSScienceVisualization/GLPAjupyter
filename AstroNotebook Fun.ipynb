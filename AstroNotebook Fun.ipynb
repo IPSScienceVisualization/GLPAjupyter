{
 "cells": [
  {
   "cell_type": "markdown",
   "metadata": {},
   "source": [
    "# Fun with Jupyter notebooks\n",
    "\n",
    "This notebook will demo why Jupyter notebooks are such a great environment for research, teaching, and collaboration.\n",
    "\n",
    "The big idea is that you can mix documentation with code and visualization - let's try that out"
   ]
  },
  {
   "cell_type": "code",
   "execution_count": null,
   "metadata": {},
   "outputs": [],
   "source": [
    "# Here we are programming with Python, but Jupyter Notebooks support other languages\n",
    "# J(Julia)Py(python)teR(R)\n",
    "\n",
    "print('Hello GLPA')"
   ]
  },
  {
   "cell_type": "code",
   "execution_count": null,
   "metadata": {},
   "outputs": [],
   "source": [
    "fruits = ['orange','apple','mango']\n",
    "for fruit in fruits:\n",
    "    print(fruit)"
   ]
  },
  {
   "cell_type": "raw",
   "metadata": {},
   "source": [
    "The documentation is written in markdown. Markdown is a lightweight markup language (read WAY easier than writing html). Aaron Schwartz https://en.wikipedia.org/wiki/Aaron_Swartz was a key developer of the language. Some examples of thigs you can do:\n",
    "\n",
    "##### I can make lists\n",
    "* oranges\n",
    "* mangos\n",
    "* apples\n",
    "\n",
    "##### I can make ordered lists\n",
    "1. First Thing\n",
    "2. Second Thing\n",
    "3. Third Thing\n",
    "1. Actually the numbers don't have to be in order\n",
    "100. They will render OK anyway"
   ]
  },
  {
   "cell_type": "markdown",
   "metadata": {},
   "source": [
    "### Images\n",
    "\n",
    "I can also import images ![GLPA logo](https://glpa.org/local/images/2018conference/logo.png)"
   ]
  },
  {
   "cell_type": "markdown",
   "metadata": {},
   "source": [
    "Importing some additional python libraries will allow you to do more, for example here is a one that lets you display YouTube videos in the notebook"
   ]
  },
  {
   "cell_type": "code",
   "execution_count": null,
   "metadata": {},
   "outputs": [],
   "source": [
    "from IPython.display import YouTubeVideo\n",
    "YouTubeVideo('J7UwSVsiwzI')"
   ]
  },
  {
   "cell_type": "markdown",
   "metadata": {},
   "source": [
    "## PyWWT\n",
    "\n",
    "We can use Worldwide Telescope directly in the notebook!"
   ]
  },
  {
   "cell_type": "code",
   "execution_count": null,
   "metadata": {},
   "outputs": [],
   "source": [
    "from pywwt.jupyter import WWTJupyterWidget\n",
    "\n",
    "wwt = WWTJupyterWidget()"
   ]
  },
  {
   "cell_type": "code",
   "execution_count": null,
   "metadata": {},
   "outputs": [],
   "source": [
    "wwt"
   ]
  },
  {
   "cell_type": "code",
   "execution_count": null,
   "metadata": {},
   "outputs": [],
   "source": [
    "wwt.constellation_figures=True\n"
   ]
  },
  {
   "cell_type": "code",
   "execution_count": null,
   "metadata": {},
   "outputs": [],
   "source": [
    "wwt.available_layers"
   ]
  },
  {
   "cell_type": "code",
   "execution_count": null,
   "metadata": {},
   "outputs": [],
   "source": [
    "wwt.foreground='SDSS: Sloan Digital Sky Survey (Optical)'\n",
    "wwt.background='2Mass: Imagery (Infrared)'"
   ]
  },
  {
   "cell_type": "code",
   "execution_count": null,
   "metadata": {},
   "outputs": [],
   "source": [
    "\n",
    "hh"
   ]
  }
 ],
 "metadata": {
  "anaconda-cloud": {},
  "kernelspec": {
   "display_name": "Python [conda env:Anaconda3]",
   "language": "python",
   "name": "conda-env-Anaconda3-py"
  },
  "language_info": {
   "codemirror_mode": {
    "name": "ipython",
    "version": 3
   },
   "file_extension": ".py",
   "mimetype": "text/x-python",
   "name": "python",
   "nbconvert_exporter": "python",
   "pygments_lexer": "ipython3",
   "version": "3.5.2"
  }
 },
 "nbformat": 4,
 "nbformat_minor": 1
}
