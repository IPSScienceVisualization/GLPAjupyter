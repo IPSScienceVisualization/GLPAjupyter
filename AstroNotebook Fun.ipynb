{
 "cells": [
  {
   "cell_type": "markdown",
   "metadata": {},
   "source": [
    "# Fun with Jupyter notebooks\n",
    "\n",
    "This notebook will demo why Jupyter notebooks are such a great environment for research, teaching, and collaboration.\n",
    "\n",
    "The big idea is that you can mix documentation with code and visualization - let's try that out"
   ]
  },
  {
   "cell_type": "code",
   "execution_count": 1,
   "metadata": {},
   "outputs": [
    {
     "name": "stdout",
     "output_type": "stream",
     "text": [
      "Hello GLPA\n"
     ]
    }
   ],
   "source": [
    "# Here we are programming with Python, but Jupyter Notebooks support other languages\n",
    "# J(Julia)Py(python)teR(R)\n",
    "\n",
    "print('Hello GLPA')"
   ]
  },
  {
   "cell_type": "code",
   "execution_count": 2,
   "metadata": {},
   "outputs": [
    {
     "name": "stdout",
     "output_type": "stream",
     "text": [
      "orange\n",
      "apple\n",
      "mango\n"
     ]
    }
   ],
   "source": [
    "fruits = ['orange','apple','mango']\n",
    "for fruit in fruits:\n",
    "    print(fruit)"
   ]
  },
  {
   "cell_type": "markdown",
   "metadata": {},
   "source": [
    "The documentation is written in markdown. Markdown is a lightweight markup language (read WAY easier than writing html). Aaron Schwartz https://en.wikipedia.org/wiki/Aaron_Swartz was a key developer of the language. Some examples of thigs you can do:\n",
    "\n",
    "#### I can make lists\n",
    "* oranges\n",
    "* mangos\n",
    "* apples\n",
    "\n",
    "##### I can make ordered lists\n",
    "1. First Thing\n",
    "2. Second Thing\n",
    "3. Third Thing\n",
    "1. Actually the numbers don't have to be in order\n",
    "100. They will render OK anyway"
   ]
  },
  {
   "cell_type": "markdown",
   "metadata": {},
   "source": [
    "### Images\n",
    "\n",
    "I can also import images ![GLPA logo](https://glpa.org/local/images/2018conference/logo.png)"
   ]
  },
  {
   "cell_type": "markdown",
   "metadata": {},
   "source": [
    "Importing some additional python libraries will allow you to do more, for example here is a one that lets you display YouTube videos in the notebook"
   ]
  },
  {
   "cell_type": "code",
   "execution_count": null,
   "metadata": {},
   "outputs": [],
   "source": [
    "from IPython.display import YouTubeVideo\n",
    "YouTubeVideo('J7UwSVsiwzI')"
   ]
  },
  {
   "cell_type": "markdown",
   "metadata": {},
   "source": [
    "## PyWWT\n",
    "\n",
    "We can use Worldwide Telescope directly in the notebook!"
   ]
  },
  {
   "cell_type": "code",
   "execution_count": 1,
   "metadata": {},
   "outputs": [],
   "source": [
    "from pywwt.jupyter import WWTJupyterWidget\n",
    "\n",
    "wwt = WWTJupyterWidget()\n"
   ]
  },
  {
   "cell_type": "code",
   "execution_count": 2,
   "metadata": {
    "scrolled": false
   },
   "outputs": [
    {
     "data": {
      "application/vnd.jupyter.widget-view+json": {
       "model_id": "0067ba69984d4e34808445adbacf3bc5",
       "version_major": 2,
       "version_minor": 0
      },
      "text/plain": [
       "WWTJupyterWidget(layout=Layout(align_self='stretch', height='400px'))"
      ]
     },
     "metadata": {},
     "output_type": "display_data"
    }
   ],
   "source": [
    "wwt"
   ]
  },
  {
   "cell_type": "code",
   "execution_count": 5,
   "metadata": {},
   "outputs": [
    {
     "data": {
      "application/vnd.jupyter.widget-view+json": {
       "model_id": "6acf710a34c54588a686b06f04f1594c",
       "version_major": 2,
       "version_minor": 0
      },
      "text/plain": [
       "HBox(children=(Dropdown(index=1, options=('2MASS: Catalog (Synthetic, Near Infrared)', '2Mass: Imagery (Infrar…"
      ]
     },
     "metadata": {},
     "output_type": "display_data"
    }
   ],
   "source": [
    "wwt.layer_controls"
   ]
  },
  {
   "cell_type": "code",
   "execution_count": 3,
   "metadata": {},
   "outputs": [],
   "source": [
    "wwt.constellation_figures=True\n"
   ]
  },
  {
   "cell_type": "code",
   "execution_count": 5,
   "metadata": {},
   "outputs": [
    {
     "data": {
      "text/plain": [
       "['2MASS: Catalog (Synthetic, Near Infrared)',\n",
       " '2Mass: Imagery (Infrared)',\n",
       " 'Black Sky Background',\n",
       " 'Digitized Sky Survey (Color)',\n",
       " 'Fermi LAT 8-year (gamma)',\n",
       " 'GALEX (Ultraviolet)',\n",
       " 'GALEX 4 Far-UV',\n",
       " 'GALEX 4 Near-UV',\n",
       " 'Hydrogen Alpha Full Sky Map',\n",
       " 'IRIS: Improved Reprocessing of IRAS Survey (Infrared)',\n",
       " 'Planck CMB',\n",
       " 'Planck Dust & Gas',\n",
       " 'RASS: ROSAT All Sky Survey (X-ray)',\n",
       " 'SDSS: Sloan Digital Sky Survey (Optical)',\n",
       " 'SFD Dust Map (Infrared)',\n",
       " 'Tycho (Synthetic, Optical)',\n",
       " 'USNOB: US Naval Observatory B 1.0 (Synthetic, Optical)',\n",
       " 'VLSS: VLA Low-frequency Sky Survey (Radio)',\n",
       " 'WISE All Sky (Infrared)',\n",
       " 'WMAP ILC 5-Year Cosmic Microwave Background']"
      ]
     },
     "execution_count": 5,
     "metadata": {},
     "output_type": "execute_result"
    }
   ],
   "source": [
    "wwt.available_layers"
   ]
  },
  {
   "cell_type": "code",
   "execution_count": 4,
   "metadata": {},
   "outputs": [],
   "source": [
    "wwt.foreground='SDSS: Sloan Digital Sky Survey (Optical)'\n",
    "wwt.background='2Mass: Imagery (Infrared)'"
   ]
  },
  {
   "cell_type": "code",
   "execution_count": 8,
   "metadata": {},
   "outputs": [],
   "source": [
    "wwt.galactic_mode = True"
   ]
  },
  {
   "cell_type": "code",
   "execution_count": null,
   "metadata": {},
   "outputs": [],
   "source": []
  }
 ],
 "metadata": {
  "anaconda-cloud": {},
  "kernelspec": {
   "display_name": "Python 3",
   "language": "python",
   "name": "python3"
  },
  "language_info": {
   "codemirror_mode": {
    "name": "ipython",
    "version": 3
   },
   "file_extension": ".py",
   "mimetype": "text/x-python",
   "name": "python",
   "nbconvert_exporter": "python",
   "pygments_lexer": "ipython3",
   "version": "3.6.8"
  }
 },
 "nbformat": 4,
 "nbformat_minor": 1
}
